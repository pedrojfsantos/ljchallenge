{
 "cells": [
  {
   "cell_type": "code",
   "execution_count": 1,
   "metadata": {
    "ExecuteTime": {
     "end_time": "2021-04-22T17:09:25.158186Z",
     "start_time": "2021-04-22T17:09:23.650708Z"
    }
   },
   "outputs": [],
   "source": [
    "import pandas as pd\n",
    "import numpy as np\n",
    "import matplotlib.pyplot as plt\n",
    "import seaborn as sns\n",
    "import plotly.express as px"
   ]
  },
  {
   "cell_type": "markdown",
   "metadata": {},
   "source": [
    "# Importing original dataset"
   ]
  },
  {
   "cell_type": "code",
   "execution_count": 2,
   "metadata": {
    "ExecuteTime": {
     "end_time": "2021-04-22T17:09:31.891293Z",
     "start_time": "2021-04-22T17:09:26.730604Z"
    }
   },
   "outputs": [
    {
     "data": {
      "text/html": [
       "<div>\n",
       "<style scoped>\n",
       "    .dataframe tbody tr th:only-of-type {\n",
       "        vertical-align: middle;\n",
       "    }\n",
       "\n",
       "    .dataframe tbody tr th {\n",
       "        vertical-align: top;\n",
       "    }\n",
       "\n",
       "    .dataframe thead th {\n",
       "        text-align: right;\n",
       "    }\n",
       "</style>\n",
       "<table border=\"1\" class=\"dataframe\">\n",
       "  <thead>\n",
       "    <tr style=\"text-align: right;\">\n",
       "      <th></th>\n",
       "      <th>Employment_Status</th>\n",
       "      <th>Employment_Status_Aggregated</th>\n",
       "      <th>Work_as_Contractor_12m</th>\n",
       "      <th>Work_as_Perm</th>\n",
       "      <th>Residence_Country</th>\n",
       "      <th>Residence_District</th>\n",
       "      <th>Residence_District_Aggregated</th>\n",
       "      <th>Work_Company_Country</th>\n",
       "      <th>Work_Company_Continent</th>\n",
       "      <th>Work_Company_PT_International</th>\n",
       "      <th>...</th>\n",
       "      <th>Citizenship</th>\n",
       "      <th>Birth_Year</th>\n",
       "      <th>Age</th>\n",
       "      <th>Gender</th>\n",
       "      <th>English_Level</th>\n",
       "      <th>Way_Into_Tech</th>\n",
       "      <th>Way_Into_Tech_Other</th>\n",
       "      <th>Education_Level</th>\n",
       "      <th>Working_Experience</th>\n",
       "      <th>Working_Experience_Aggregated</th>\n",
       "    </tr>\n",
       "    <tr>\n",
       "      <th>ID</th>\n",
       "      <th></th>\n",
       "      <th></th>\n",
       "      <th></th>\n",
       "      <th></th>\n",
       "      <th></th>\n",
       "      <th></th>\n",
       "      <th></th>\n",
       "      <th></th>\n",
       "      <th></th>\n",
       "      <th></th>\n",
       "      <th></th>\n",
       "      <th></th>\n",
       "      <th></th>\n",
       "      <th></th>\n",
       "      <th></th>\n",
       "      <th></th>\n",
       "      <th></th>\n",
       "      <th></th>\n",
       "      <th></th>\n",
       "      <th></th>\n",
       "      <th></th>\n",
       "    </tr>\n",
       "  </thead>\n",
       "  <tbody>\n",
       "    <tr>\n",
       "      <th>1</th>\n",
       "      <td>Employed full-time</td>\n",
       "      <td>Permanent Employee</td>\n",
       "      <td>1.0</td>\n",
       "      <td>NaN</td>\n",
       "      <td>Portugal</td>\n",
       "      <td>Santarém</td>\n",
       "      <td>Centre</td>\n",
       "      <td>Portugal</td>\n",
       "      <td>Europe</td>\n",
       "      <td>Portugal</td>\n",
       "      <td>...</td>\n",
       "      <td>Portuguese</td>\n",
       "      <td>1984.0</td>\n",
       "      <td>37.0</td>\n",
       "      <td>Male</td>\n",
       "      <td>Full professional proficiency</td>\n",
       "      <td>University</td>\n",
       "      <td>NaN</td>\n",
       "      <td>NaN</td>\n",
       "      <td>More than 9 years</td>\n",
       "      <td>6+ years</td>\n",
       "    </tr>\n",
       "    <tr>\n",
       "      <th>2</th>\n",
       "      <td>Employed full-time</td>\n",
       "      <td>Permanent Employee</td>\n",
       "      <td>0.0</td>\n",
       "      <td>NaN</td>\n",
       "      <td>Portugal</td>\n",
       "      <td>Coimbra</td>\n",
       "      <td>Centre</td>\n",
       "      <td>Portugal</td>\n",
       "      <td>Europe</td>\n",
       "      <td>Portugal</td>\n",
       "      <td>...</td>\n",
       "      <td>Portuguese</td>\n",
       "      <td>1976.0</td>\n",
       "      <td>45.0</td>\n",
       "      <td>Male</td>\n",
       "      <td>Full professional proficiency</td>\n",
       "      <td>Self-taught</td>\n",
       "      <td>NaN</td>\n",
       "      <td>NaN</td>\n",
       "      <td>More than 9 years</td>\n",
       "      <td>6+ years</td>\n",
       "    </tr>\n",
       "    <tr>\n",
       "      <th>3</th>\n",
       "      <td>Working as a Contractor/Freelancer</td>\n",
       "      <td>Contractor</td>\n",
       "      <td>NaN</td>\n",
       "      <td>1.0</td>\n",
       "      <td>Portugal</td>\n",
       "      <td>Porto</td>\n",
       "      <td>Porto Metropolitan Area</td>\n",
       "      <td>No specific country</td>\n",
       "      <td>NaN</td>\n",
       "      <td>International</td>\n",
       "      <td>...</td>\n",
       "      <td>Portuguese</td>\n",
       "      <td>1986.0</td>\n",
       "      <td>35.0</td>\n",
       "      <td>Male</td>\n",
       "      <td>Full professional proficiency</td>\n",
       "      <td>University</td>\n",
       "      <td>NaN</td>\n",
       "      <td>Bachelor degree</td>\n",
       "      <td>Between 1 - 3 years</td>\n",
       "      <td>0 - 3 years</td>\n",
       "    </tr>\n",
       "    <tr>\n",
       "      <th>4</th>\n",
       "      <td>Employed full-time</td>\n",
       "      <td>Permanent Employee</td>\n",
       "      <td>1.0</td>\n",
       "      <td>NaN</td>\n",
       "      <td>Portugal</td>\n",
       "      <td>Açores</td>\n",
       "      <td>Azores and Madeira</td>\n",
       "      <td>Portugal</td>\n",
       "      <td>Europe</td>\n",
       "      <td>Portugal</td>\n",
       "      <td>...</td>\n",
       "      <td>Portuguese</td>\n",
       "      <td>1975.0</td>\n",
       "      <td>46.0</td>\n",
       "      <td>Male</td>\n",
       "      <td>Full professional proficiency</td>\n",
       "      <td>University</td>\n",
       "      <td>NaN</td>\n",
       "      <td>Bachelor degree</td>\n",
       "      <td>More than 9 years</td>\n",
       "      <td>6+ years</td>\n",
       "    </tr>\n",
       "    <tr>\n",
       "      <th>5</th>\n",
       "      <td>Employed full-time</td>\n",
       "      <td>Permanent Employee</td>\n",
       "      <td>0.0</td>\n",
       "      <td>NaN</td>\n",
       "      <td>Portugal</td>\n",
       "      <td>Braga</td>\n",
       "      <td>North</td>\n",
       "      <td>Portugal</td>\n",
       "      <td>Europe</td>\n",
       "      <td>Portugal</td>\n",
       "      <td>...</td>\n",
       "      <td>Portuguese</td>\n",
       "      <td>1989.0</td>\n",
       "      <td>32.0</td>\n",
       "      <td>Male</td>\n",
       "      <td>Professional working proficiency</td>\n",
       "      <td>University</td>\n",
       "      <td>NaN</td>\n",
       "      <td>Bachelor degree</td>\n",
       "      <td>Between 6 - 9 years</td>\n",
       "      <td>6+ years</td>\n",
       "    </tr>\n",
       "  </tbody>\n",
       "</table>\n",
       "<p>5 rows × 125 columns</p>\n",
       "</div>"
      ],
      "text/plain": [
       "                     Employment_Status Employment_Status_Aggregated  \\\n",
       "ID                                                                    \n",
       "1                   Employed full-time           Permanent Employee   \n",
       "2                   Employed full-time           Permanent Employee   \n",
       "3   Working as a Contractor/Freelancer                   Contractor   \n",
       "4                   Employed full-time           Permanent Employee   \n",
       "5                   Employed full-time           Permanent Employee   \n",
       "\n",
       "    Work_as_Contractor_12m  Work_as_Perm Residence_Country Residence_District  \\\n",
       "ID                                                                              \n",
       "1                      1.0           NaN          Portugal           Santarém   \n",
       "2                      0.0           NaN          Portugal            Coimbra   \n",
       "3                      NaN           1.0          Portugal              Porto   \n",
       "4                      1.0           NaN          Portugal             Açores   \n",
       "5                      0.0           NaN          Portugal              Braga   \n",
       "\n",
       "   Residence_District_Aggregated Work_Company_Country Work_Company_Continent  \\\n",
       "ID                                                                             \n",
       "1                         Centre             Portugal                 Europe   \n",
       "2                         Centre             Portugal                 Europe   \n",
       "3        Porto Metropolitan Area  No specific country                    NaN   \n",
       "4             Azores and Madeira             Portugal                 Europe   \n",
       "5                          North             Portugal                 Europe   \n",
       "\n",
       "   Work_Company_PT_International  ... Citizenship Birth_Year   Age  Gender  \\\n",
       "ID                                ...                                        \n",
       "1                       Portugal  ...  Portuguese     1984.0  37.0    Male   \n",
       "2                       Portugal  ...  Portuguese     1976.0  45.0    Male   \n",
       "3                  International  ...  Portuguese     1986.0  35.0    Male   \n",
       "4                       Portugal  ...  Portuguese     1975.0  46.0    Male   \n",
       "5                       Portugal  ...  Portuguese     1989.0  32.0    Male   \n",
       "\n",
       "                       English_Level Way_Into_Tech  Way_Into_Tech_Other  \\\n",
       "ID                                                                        \n",
       "1      Full professional proficiency    University                  NaN   \n",
       "2      Full professional proficiency   Self-taught                  NaN   \n",
       "3      Full professional proficiency    University                  NaN   \n",
       "4      Full professional proficiency    University                  NaN   \n",
       "5   Professional working proficiency    University                  NaN   \n",
       "\n",
       "    Education_Level   Working_Experience Working_Experience_Aggregated  \n",
       "ID                                                                      \n",
       "1               NaN    More than 9 years                      6+ years  \n",
       "2               NaN    More than 9 years                      6+ years  \n",
       "3   Bachelor degree  Between 1 - 3 years                   0 - 3 years  \n",
       "4   Bachelor degree    More than 9 years                      6+ years  \n",
       "5   Bachelor degree  Between 6 - 9 years                      6+ years  \n",
       "\n",
       "[5 rows x 125 columns]"
      ]
     },
     "execution_count": 2,
     "metadata": {},
     "output_type": "execute_result"
    }
   ],
   "source": [
    "dataset = pd.DataFrame(pd.read_excel(\"data/345e9990-8715-11eb-85f9-917cda200840Tech Careers Report PT 2021 - Raw Data.xlsx\" ,sheet_name=\"TCS PT 2021 - raw data\")).set_index(\"ID\")\n",
    "\n",
    "dataset.head()"
   ]
  },
  {
   "cell_type": "code",
   "execution_count": 3,
   "metadata": {
    "ExecuteTime": {
     "end_time": "2021-04-22T17:09:34.843715Z",
     "start_time": "2021-04-22T17:09:34.812758Z"
    }
   },
   "outputs": [
    {
     "name": "stdout",
     "output_type": "stream",
     "text": [
      "<class 'pandas.core.frame.DataFrame'>\n",
      "Int64Index: 3371 entries, 1 to 3371\n",
      "Data columns (total 125 columns):\n",
      " #    Column                                                                       Dtype  \n",
      "---   ------                                                                       -----  \n",
      " 0    Employment_Status                                                            object \n",
      " 1    Employment_Status_Aggregated                                                 object \n",
      " 2    Work_as_Contractor_12m                                                       float64\n",
      " 3    Work_as_Perm                                                                 float64\n",
      " 4    Residence_Country                                                            object \n",
      " 5    Residence_District                                                           object \n",
      " 6    Residence_District_Aggregated                                                object \n",
      " 7    Work_Company_Country                                                         object \n",
      " 8    Work_Company_Continent                                                       object \n",
      " 9    Work_Company_PT_International                                                object \n",
      " 10   Work_Company_PT_District                                                     object \n",
      " 11   Work_Company_PT_District_Aggregated                                          object \n",
      " 12   Remote_Working_Current                                                       object \n",
      " 13   Remote_Working_Current_Flexible_Office_Days                                  float64\n",
      " 14   Remote_Working_due_to_Covid                                                  object \n",
      " 15   Job_Remote_or_Office                                                         object \n",
      " 16   Remote_Work_Opinion                                                          float64\n",
      " 17   Job_Role_Original                                                            object \n",
      " 18   Job_Role_Other                                                               object \n",
      " 19   Job_Role                                                                     object \n",
      " 20   Employer_Industry                                                            object \n",
      " 21   Employer_Industry_Other                                                      object \n",
      " 22   Employer_Org_Type                                                            object \n",
      " 23   Employer_Org_Type_Other                                                      object \n",
      " 24   Employer_Size                                                                object \n",
      " 25   Language_JavaScript                                                          object \n",
      " 26   Language_Bash/Shell/PowerShell                                               object \n",
      " 27   Language_SQL                                                                 object \n",
      " 28   Language_Java                                                                object \n",
      " 29   Language_C#                                                                  object \n",
      " 30   Language_Python                                                              object \n",
      " 31   Language_PHP                                                                 object \n",
      " 32   Language_C++                                                                 object \n",
      " 33   Language_C                                                                   object \n",
      " 34   Language_TypeScript                                                          object \n",
      " 35   Language_Ruby                                                                object \n",
      " 36   Language_Swift                                                               object \n",
      " 37   Language_Objective-C                                                         object \n",
      " 38   Language_VB.NET                                                              object \n",
      " 39   Language_Assembly                                                            object \n",
      " 40   Language_R                                                                   object \n",
      " 41   Language_Perl                                                                object \n",
      " 42   Language_VBA                                                                 object \n",
      " 43   Language_Matlab                                                              object \n",
      " 44   Language_Go                                                                  object \n",
      " 45   Language_Scala                                                               object \n",
      " 46   Language_Groovy                                                              object \n",
      " 47   Language_Coffee Script                                                       object \n",
      " 48   Language_Visual Basic 6                                                      object \n",
      " 49   Language_Lua                                                                 object \n",
      " 50   Language_Haskell                                                             object \n",
      " 51   Language_HTML/CSS                                                            object \n",
      " 52   Language_Kotlin                                                              object \n",
      " 53   Language_Rust                                                                object \n",
      " 54   Language_Elixir                                                              object \n",
      " 55   Language_Clojure                                                             object \n",
      " 56   Language_WebAssembly                                                         object \n",
      " 57   Language_Dart                                                                object \n",
      " 58   Language_Languages_N/A                                                       float64\n",
      " 59   Language_Languages_Other                                                     object \n",
      " 60   Framework_jQuery                                                             object \n",
      " 61   Framework_.NET                                                               object \n",
      " 62   Framework_Angular/Angular.js                                                 object \n",
      " 63   Framework_Ruby on Rails                                                      object \n",
      " 64   Framework_React                                                              object \n",
      " 65   Framework_Django                                                             object \n",
      " 66   Framework_Laravel                                                            object \n",
      " 67   Framework_Spring                                                             object \n",
      " 68   Framework_Vue.js                                                             object \n",
      " 69   Framework_Express                                                            object \n",
      " 70   Framework_Meteor                                                             object \n",
      " 71   Framework_Flask                                                              object \n",
      " 72   Framework_Ember.js                                                           object \n",
      " 73   Framework_Drupal                                                             object \n",
      " 74   Framework_OutSystems                                                         object \n",
      " 75   Framework_Framework_N/A                                                      float64\n",
      " 76   Framework_Framework_Other                                                    object \n",
      " 77   Contractor_Avg_Project                                                       object \n",
      " 78   Contractor_Avg_Project_Intervals                                             object \n",
      " 79   Contractor_Avg_Hour_Rate                                                     float64\n",
      " 80   Contractor_Avg_Annual_Salary                                                 float64\n",
      " 81   Perm_Current_Company_how_long                                                object \n",
      " 82   Perm_GAS                                                                     object \n",
      " 83   Perm_GAS_Avg                                                                 float64\n",
      " 84   Perm_GAS_Low_Limit                                                           float64\n",
      " 85   Perm_GAS_High_Limit                                                          float64\n",
      " 86   Avg_Salary                                                                   int64  \n",
      " 87   Salary_Change                                                                object \n",
      " 88   Salary_Fairness                                                              int64  \n",
      " 89   Changing_Jobs_next_6_months                                                  float64\n",
      " 90   Job_Motivator_Work_life_balance                                              int64  \n",
      " 91   Job_Motivator_Compensation_and_benefits                                      int64  \n",
      " 92   Job_Motivator_Training/Development_programs_at_work                          int64  \n",
      " 93   Job_Motivator_Career_growth_opportunities                                    int64  \n",
      " 94   Job_Motivator_Remote_working                                                 int64  \n",
      " 95   Job_Motivator_Flexible_schedule                                              int64  \n",
      " 96   Job_Motivator_Company_culture                                                int64  \n",
      " 97   Job_Motivator_The_technologies_I'm_working_with                              int64  \n",
      " 98   Job_Motivator_Versatility/Variety_of_projects                                int64  \n",
      " 99   Job_Motivator_Freedom_to_choose_the_clients_and/or_projects                  int64  \n",
      " 100  Job_Motivator_Being_autonomous_at_work                                       int64  \n",
      " 101  Job_Motivator_How_widely_used_or_impactful_the_product/service_I_work_on_is  int64  \n",
      " 102  Job_Motivator_Environmentally_friendly/responsible_work_practice             int64  \n",
      " 103  Job_Perk_Meals_allowance/Company_provided_meals_or_snacks                    int64  \n",
      " 104  Job_Perk_Transportation_benefit                                              int64  \n",
      " 105  Job_Perk_Health_benefits                                                     int64  \n",
      " 106  Job_Perk_Fitness_or_wellness_benefit_(ex._gym_membership)                    int64  \n",
      " 107  Job_Perk_Computer/_Office_equipment_allowance                                int64  \n",
      " 108  Job_Perk_Professional_development_sponsorship                                int64  \n",
      " 109  Job_Perk_Annual_bonus                                                        int64  \n",
      " 110  Job_Perk_Long-term_leave                                                     int64  \n",
      " 111  Job_Perk_Parental_leave                                                      int64  \n",
      " 112  Job_Perk_Stock_options_or_shares                                             int64  \n",
      " 113  Job_Perk_Education_sponsorship                                               int64  \n",
      " 114  Job_Perk_Child_care                                                          int64  \n",
      " 115  Citizenship                                                                  object \n",
      " 116  Birth_Year                                                                   float64\n",
      " 117  Age                                                                          float64\n",
      " 118  Gender                                                                       object \n",
      " 119  English_Level                                                                object \n",
      " 120  Way_Into_Tech                                                                object \n",
      " 121  Way_Into_Tech_Other                                                          object \n",
      " 122  Education_Level                                                              object \n",
      " 123  Working_Experience                                                           object \n",
      " 124  Working_Experience_Aggregated                                                object \n",
      "dtypes: float64(14), int64(27), object(84)\n",
      "memory usage: 3.2+ MB\n"
     ]
    }
   ],
   "source": [
    "dataset.info(verbose=True)"
   ]
  },
  {
   "cell_type": "markdown",
   "metadata": {},
   "source": [
    "## Geting a lighter dataset"
   ]
  },
  {
   "cell_type": "code",
   "execution_count": 4,
   "metadata": {
    "ExecuteTime": {
     "end_time": "2021-04-22T17:09:39.484984Z",
     "start_time": "2021-04-22T17:09:39.360688Z"
    }
   },
   "outputs": [],
   "source": [
    "# Droping \"Job_Motivator\" and \"Job_Perk\" columns\n",
    "df=dataset\n",
    "for i in df.columns:\n",
    "    if \"Job_Motivator\" in i or \"Job_Perk\" in i:\n",
    "        df.drop(axis=1, columns=[i], inplace=True)"
   ]
  },
  {
   "cell_type": "code",
   "execution_count": 5,
   "metadata": {
    "ExecuteTime": {
     "end_time": "2021-04-22T17:09:41.789637Z",
     "start_time": "2021-04-22T17:09:41.776649Z"
    }
   },
   "outputs": [],
   "source": [
    "# Droping some more columns\n",
    "df.drop(axis=1, \n",
    "        columns=[\"Employment_Status\",\n",
    "                 \"Residence_Country\",\n",
    "                 \"Residence_District\",\n",
    "                 \"Residence_District_Aggregated\",\n",
    "                 \"Work_Company_Continent\",\n",
    "                 \"Work_Company_PT_International\",\n",
    "                 \"Work_Company_PT_District\",\n",
    "                 \"Work_Company_PT_District_Aggregated\",\n",
    "                 \"Remote_Working_Current\",\n",
    "                 \"Remote_Working_Current_Flexible_Office_Days\",\n",
    "                 \"Remote_Working_due_to_Covid\",\n",
    "                 \"Remote_Work_Opinion\",\n",
    "                 \"Job_Role_Original\",\n",
    "                 \"Job_Role_Other\",\n",
    "                 \"Employer_Industry\",\n",
    "                 \"Employer_Industry_Other\",\n",
    "                 \"Employer_Org_Type_Other\",\n",
    "                 \"Perm_GAS\", \"Perm_GAS_Avg\",\n",
    "                 \"Perm_GAS_Low_Limit\",\n",
    "                 \"Perm_GAS_High_Limit\",\n",
    "                 \"Way_Into_Tech\",\n",
    "                 \"Way_Into_Tech_Other\",\n",
    "                 \"Working_Experience\",\n",
    "                 \"Work_as_Contractor_12m\",\n",
    "                 \"Work_as_Perm\",\n",
    "                 \"Language_Languages_N/A\",\n",
    "                 \"Framework_Framework_N/A\"\n",
    "                ],\n",
    "        inplace=True)"
   ]
  },
  {
   "cell_type": "code",
   "execution_count": 6,
   "metadata": {
    "ExecuteTime": {
     "end_time": "2021-04-22T17:09:44.115827Z",
     "start_time": "2021-04-22T17:09:44.073641Z"
    }
   },
   "outputs": [
    {
     "data": {
      "text/html": [
       "<div>\n",
       "<style scoped>\n",
       "    .dataframe tbody tr th:only-of-type {\n",
       "        vertical-align: middle;\n",
       "    }\n",
       "\n",
       "    .dataframe tbody tr th {\n",
       "        vertical-align: top;\n",
       "    }\n",
       "\n",
       "    .dataframe thead th {\n",
       "        text-align: right;\n",
       "    }\n",
       "</style>\n",
       "<table border=\"1\" class=\"dataframe\">\n",
       "  <thead>\n",
       "    <tr style=\"text-align: right;\">\n",
       "      <th></th>\n",
       "      <th>Employment_Status_Aggregated</th>\n",
       "      <th>Work_Company_Country</th>\n",
       "      <th>Job_Remote_or_Office</th>\n",
       "      <th>Job_Role</th>\n",
       "      <th>Employer_Org_Type</th>\n",
       "      <th>Employer_Size</th>\n",
       "      <th>Language_JavaScript</th>\n",
       "      <th>Language_Bash/Shell/PowerShell</th>\n",
       "      <th>Language_SQL</th>\n",
       "      <th>Language_Java</th>\n",
       "      <th>...</th>\n",
       "      <th>Salary_Change</th>\n",
       "      <th>Salary_Fairness</th>\n",
       "      <th>Changing_Jobs_next_6_months</th>\n",
       "      <th>Citizenship</th>\n",
       "      <th>Birth_Year</th>\n",
       "      <th>Age</th>\n",
       "      <th>Gender</th>\n",
       "      <th>English_Level</th>\n",
       "      <th>Education_Level</th>\n",
       "      <th>Working_Experience_Aggregated</th>\n",
       "    </tr>\n",
       "    <tr>\n",
       "      <th>ID</th>\n",
       "      <th></th>\n",
       "      <th></th>\n",
       "      <th></th>\n",
       "      <th></th>\n",
       "      <th></th>\n",
       "      <th></th>\n",
       "      <th></th>\n",
       "      <th></th>\n",
       "      <th></th>\n",
       "      <th></th>\n",
       "      <th></th>\n",
       "      <th></th>\n",
       "      <th></th>\n",
       "      <th></th>\n",
       "      <th></th>\n",
       "      <th></th>\n",
       "      <th></th>\n",
       "      <th></th>\n",
       "      <th></th>\n",
       "      <th></th>\n",
       "      <th></th>\n",
       "    </tr>\n",
       "  </thead>\n",
       "  <tbody>\n",
       "    <tr>\n",
       "      <th>1</th>\n",
       "      <td>Permanent Employee</td>\n",
       "      <td>Portugal</td>\n",
       "      <td>Full Office Job</td>\n",
       "      <td>Technical Team Leader</td>\n",
       "      <td>Corporate</td>\n",
       "      <td>1000 - 4.999 employees</td>\n",
       "      <td>NaN</td>\n",
       "      <td>NaN</td>\n",
       "      <td>SQL</td>\n",
       "      <td>Java</td>\n",
       "      <td>...</td>\n",
       "      <td>Hasn't changed</td>\n",
       "      <td>4</td>\n",
       "      <td>4.0</td>\n",
       "      <td>Portuguese</td>\n",
       "      <td>1984.0</td>\n",
       "      <td>37.0</td>\n",
       "      <td>Male</td>\n",
       "      <td>Full professional proficiency</td>\n",
       "      <td>NaN</td>\n",
       "      <td>6+ years</td>\n",
       "    </tr>\n",
       "    <tr>\n",
       "      <th>2</th>\n",
       "      <td>Permanent Employee</td>\n",
       "      <td>Portugal</td>\n",
       "      <td>Full Office Job</td>\n",
       "      <td>Full-Stack Developer</td>\n",
       "      <td>SME - Small or Medium Enterprise (personnel &lt;250)</td>\n",
       "      <td>Less than 10 employees</td>\n",
       "      <td>JavaScript</td>\n",
       "      <td>NaN</td>\n",
       "      <td>SQL</td>\n",
       "      <td>NaN</td>\n",
       "      <td>...</td>\n",
       "      <td>Hasn't changed</td>\n",
       "      <td>4</td>\n",
       "      <td>3.0</td>\n",
       "      <td>Portuguese</td>\n",
       "      <td>1976.0</td>\n",
       "      <td>45.0</td>\n",
       "      <td>Male</td>\n",
       "      <td>Full professional proficiency</td>\n",
       "      <td>NaN</td>\n",
       "      <td>6+ years</td>\n",
       "    </tr>\n",
       "    <tr>\n",
       "      <th>3</th>\n",
       "      <td>Contractor</td>\n",
       "      <td>No specific country</td>\n",
       "      <td>Full Office Job</td>\n",
       "      <td>Full-Stack Developer</td>\n",
       "      <td>Startup (new business venture)</td>\n",
       "      <td>Less than 10 employees</td>\n",
       "      <td>JavaScript</td>\n",
       "      <td>NaN</td>\n",
       "      <td>SQL</td>\n",
       "      <td>Java</td>\n",
       "      <td>...</td>\n",
       "      <td>Decreased more than 15%</td>\n",
       "      <td>3</td>\n",
       "      <td>5.0</td>\n",
       "      <td>Portuguese</td>\n",
       "      <td>1986.0</td>\n",
       "      <td>35.0</td>\n",
       "      <td>Male</td>\n",
       "      <td>Full professional proficiency</td>\n",
       "      <td>Bachelor degree</td>\n",
       "      <td>0 - 3 years</td>\n",
       "    </tr>\n",
       "    <tr>\n",
       "      <th>4</th>\n",
       "      <td>Permanent Employee</td>\n",
       "      <td>Portugal</td>\n",
       "      <td>Full Office Job</td>\n",
       "      <td>Product Owner/Product Manager</td>\n",
       "      <td>SME - Small or Medium Enterprise (personnel &lt;250)</td>\n",
       "      <td>100 - 499 employees</td>\n",
       "      <td>JavaScript</td>\n",
       "      <td>NaN</td>\n",
       "      <td>NaN</td>\n",
       "      <td>NaN</td>\n",
       "      <td>...</td>\n",
       "      <td>]0%, 5%]</td>\n",
       "      <td>4</td>\n",
       "      <td>3.0</td>\n",
       "      <td>Portuguese</td>\n",
       "      <td>1975.0</td>\n",
       "      <td>46.0</td>\n",
       "      <td>Male</td>\n",
       "      <td>Full professional proficiency</td>\n",
       "      <td>Bachelor degree</td>\n",
       "      <td>6+ years</td>\n",
       "    </tr>\n",
       "    <tr>\n",
       "      <th>5</th>\n",
       "      <td>Permanent Employee</td>\n",
       "      <td>Portugal</td>\n",
       "      <td>Remote Job (full or flexible)</td>\n",
       "      <td>Back-End Developer</td>\n",
       "      <td>SME - Small or Medium Enterprise (personnel &lt;250)</td>\n",
       "      <td>10 - 19 employees</td>\n",
       "      <td>JavaScript</td>\n",
       "      <td>NaN</td>\n",
       "      <td>SQL</td>\n",
       "      <td>Java</td>\n",
       "      <td>...</td>\n",
       "      <td>Increased more than 15%</td>\n",
       "      <td>5</td>\n",
       "      <td>2.0</td>\n",
       "      <td>Portuguese</td>\n",
       "      <td>1989.0</td>\n",
       "      <td>32.0</td>\n",
       "      <td>Male</td>\n",
       "      <td>Professional working proficiency</td>\n",
       "      <td>Bachelor degree</td>\n",
       "      <td>6+ years</td>\n",
       "    </tr>\n",
       "  </tbody>\n",
       "</table>\n",
       "<p>5 rows × 72 columns</p>\n",
       "</div>"
      ],
      "text/plain": [
       "   Employment_Status_Aggregated Work_Company_Country  \\\n",
       "ID                                                     \n",
       "1            Permanent Employee             Portugal   \n",
       "2            Permanent Employee             Portugal   \n",
       "3                    Contractor  No specific country   \n",
       "4            Permanent Employee             Portugal   \n",
       "5            Permanent Employee             Portugal   \n",
       "\n",
       "             Job_Remote_or_Office                       Job_Role  \\\n",
       "ID                                                                 \n",
       "1                 Full Office Job          Technical Team Leader   \n",
       "2                 Full Office Job           Full-Stack Developer   \n",
       "3                 Full Office Job           Full-Stack Developer   \n",
       "4                 Full Office Job  Product Owner/Product Manager   \n",
       "5   Remote Job (full or flexible)             Back-End Developer   \n",
       "\n",
       "                                    Employer_Org_Type           Employer_Size  \\\n",
       "ID                                                                              \n",
       "1                                           Corporate  1000 - 4.999 employees   \n",
       "2   SME - Small or Medium Enterprise (personnel <250)  Less than 10 employees   \n",
       "3                      Startup (new business venture)  Less than 10 employees   \n",
       "4   SME - Small or Medium Enterprise (personnel <250)     100 - 499 employees   \n",
       "5   SME - Small or Medium Enterprise (personnel <250)       10 - 19 employees   \n",
       "\n",
       "   Language_JavaScript Language_Bash/Shell/PowerShell Language_SQL  \\\n",
       "ID                                                                   \n",
       "1                  NaN                            NaN          SQL   \n",
       "2           JavaScript                            NaN          SQL   \n",
       "3           JavaScript                            NaN          SQL   \n",
       "4           JavaScript                            NaN          NaN   \n",
       "5           JavaScript                            NaN          SQL   \n",
       "\n",
       "   Language_Java  ...            Salary_Change Salary_Fairness  \\\n",
       "ID                ...                                            \n",
       "1           Java  ...           Hasn't changed               4   \n",
       "2            NaN  ...           Hasn't changed               4   \n",
       "3           Java  ...  Decreased more than 15%               3   \n",
       "4            NaN  ...                 ]0%, 5%]               4   \n",
       "5           Java  ...  Increased more than 15%               5   \n",
       "\n",
       "   Changing_Jobs_next_6_months Citizenship Birth_Year   Age Gender  \\\n",
       "ID                                                                   \n",
       "1                          4.0  Portuguese     1984.0  37.0   Male   \n",
       "2                          3.0  Portuguese     1976.0  45.0   Male   \n",
       "3                          5.0  Portuguese     1986.0  35.0   Male   \n",
       "4                          3.0  Portuguese     1975.0  46.0   Male   \n",
       "5                          2.0  Portuguese     1989.0  32.0   Male   \n",
       "\n",
       "                       English_Level  Education_Level  \\\n",
       "ID                                                      \n",
       "1      Full professional proficiency              NaN   \n",
       "2      Full professional proficiency              NaN   \n",
       "3      Full professional proficiency  Bachelor degree   \n",
       "4      Full professional proficiency  Bachelor degree   \n",
       "5   Professional working proficiency  Bachelor degree   \n",
       "\n",
       "   Working_Experience_Aggregated  \n",
       "ID                                \n",
       "1                       6+ years  \n",
       "2                       6+ years  \n",
       "3                    0 - 3 years  \n",
       "4                       6+ years  \n",
       "5                       6+ years  \n",
       "\n",
       "[5 rows x 72 columns]"
      ]
     },
     "execution_count": 6,
     "metadata": {},
     "output_type": "execute_result"
    }
   ],
   "source": [
    "df.head()"
   ]
  },
  {
   "cell_type": "code",
   "execution_count": 7,
   "metadata": {
    "ExecuteTime": {
     "end_time": "2021-04-22T17:09:50.132805Z",
     "start_time": "2021-04-22T17:09:50.095248Z"
    }
   },
   "outputs": [
    {
     "name": "stdout",
     "output_type": "stream",
     "text": [
      "<class 'pandas.core.frame.DataFrame'>\n",
      "Int64Index: 3371 entries, 1 to 3371\n",
      "Data columns (total 72 columns):\n",
      " #   Column                            Non-Null Count  Dtype  \n",
      "---  ------                            --------------  -----  \n",
      " 0   Employment_Status_Aggregated      3371 non-null   object \n",
      " 1   Work_Company_Country              3369 non-null   object \n",
      " 2   Job_Remote_or_Office              3371 non-null   object \n",
      " 3   Job_Role                          3371 non-null   object \n",
      " 4   Employer_Org_Type                 3330 non-null   object \n",
      " 5   Employer_Size                     3371 non-null   object \n",
      " 6   Language_JavaScript               1720 non-null   object \n",
      " 7   Language_Bash/Shell/PowerShell    612 non-null    object \n",
      " 8   Language_SQL                      1555 non-null   object \n",
      " 9   Language_Java                     794 non-null    object \n",
      " 10  Language_C#                       749 non-null    object \n",
      " 11  Language_Python                   617 non-null    object \n",
      " 12  Language_PHP                      470 non-null    object \n",
      " 13  Language_C++                      177 non-null    object \n",
      " 14  Language_C                        107 non-null    object \n",
      " 15  Language_TypeScript               699 non-null    object \n",
      " 16  Language_Ruby                     158 non-null    object \n",
      " 17  Language_Swift                    118 non-null    object \n",
      " 18  Language_Objective-C              57 non-null     object \n",
      " 19  Language_VB.NET                   108 non-null    object \n",
      " 20  Language_Assembly                 11 non-null     object \n",
      " 21  Language_R                        64 non-null     object \n",
      " 22  Language_Perl                     28 non-null     object \n",
      " 23  Language_VBA                      96 non-null     object \n",
      " 24  Language_Matlab                   21 non-null     object \n",
      " 25  Language_Go                       129 non-null    object \n",
      " 26  Language_Scala                    68 non-null     object \n",
      " 27  Language_Groovy                   80 non-null     object \n",
      " 28  Language_Coffee Script            12 non-null     object \n",
      " 29  Language_Visual Basic 6           44 non-null     object \n",
      " 30  Language_Lua                      17 non-null     object \n",
      " 31  Language_Haskell                  3 non-null      object \n",
      " 32  Language_HTML/CSS                 1210 non-null   object \n",
      " 33  Language_Kotlin                   180 non-null    object \n",
      " 34  Language_Rust                     23 non-null     object \n",
      " 35  Language_Elixir                   33 non-null     object \n",
      " 36  Language_Clojure                  8 non-null      object \n",
      " 37  Language_WebAssembly              20 non-null     object \n",
      " 38  Language_Dart                     43 non-null     object \n",
      " 39  Language_Languages_Other          203 non-null    object \n",
      " 40  Framework_jQuery                  766 non-null    object \n",
      " 41  Framework_.NET                    772 non-null    object \n",
      " 42  Framework_Angular/Angular.js      572 non-null    object \n",
      " 43  Framework_Ruby on Rails           145 non-null    object \n",
      " 44  Framework_React                   756 non-null    object \n",
      " 45  Framework_Django                  140 non-null    object \n",
      " 46  Framework_Laravel                 193 non-null    object \n",
      " 47  Framework_Spring                  404 non-null    object \n",
      " 48  Framework_Vue.js                  278 non-null    object \n",
      " 49  Framework_Express                 256 non-null    object \n",
      " 50  Framework_Meteor                  7 non-null      object \n",
      " 51  Framework_Flask                   112 non-null    object \n",
      " 52  Framework_Ember.js                19 non-null     object \n",
      " 53  Framework_Drupal                  50 non-null     object \n",
      " 54  Framework_OutSystems              52 non-null     object \n",
      " 55  Framework_Framework_Other         304 non-null    object \n",
      " 56  Contractor_Avg_Project            205 non-null    object \n",
      " 57  Contractor_Avg_Project_Intervals  205 non-null    object \n",
      " 58  Contractor_Avg_Hour_Rate          205 non-null    float64\n",
      " 59  Contractor_Avg_Annual_Salary      205 non-null    float64\n",
      " 60  Perm_Current_Company_how_long     3166 non-null   object \n",
      " 61  Avg_Salary                        3371 non-null   int64  \n",
      " 62  Salary_Change                     3370 non-null   object \n",
      " 63  Salary_Fairness                   3371 non-null   int64  \n",
      " 64  Changing_Jobs_next_6_months       3369 non-null   float64\n",
      " 65  Citizenship                       3371 non-null   object \n",
      " 66  Birth_Year                        3365 non-null   float64\n",
      " 67  Age                               3365 non-null   float64\n",
      " 68  Gender                            3371 non-null   object \n",
      " 69  English_Level                     3371 non-null   object \n",
      " 70  Education_Level                   3369 non-null   object \n",
      " 71  Working_Experience_Aggregated     3371 non-null   object \n",
      "dtypes: float64(5), int64(2), object(65)\n",
      "memory usage: 1.9+ MB\n"
     ]
    }
   ],
   "source": [
    "df.info(verbose=True)"
   ]
  },
  {
   "cell_type": "markdown",
   "metadata": {},
   "source": [
    "## Encoding columns"
   ]
  },
  {
   "cell_type": "code",
   "execution_count": 8,
   "metadata": {
    "ExecuteTime": {
     "end_time": "2021-04-22T17:09:59.519098Z",
     "start_time": "2021-04-22T17:09:59.511293Z"
    }
   },
   "outputs": [
    {
     "data": {
      "text/plain": [
       "array(['Permanent Employee', 'Contractor'], dtype=object)"
      ]
     },
     "execution_count": 8,
     "metadata": {},
     "output_type": "execute_result"
    }
   ],
   "source": [
    "df[\"Employment_Status_Aggregated\"].unique()"
   ]
  },
  {
   "cell_type": "code",
   "execution_count": 13,
   "metadata": {
    "ExecuteTime": {
     "end_time": "2021-04-22T17:12:59.912324Z",
     "start_time": "2021-04-22T17:12:59.902677Z"
    }
   },
   "outputs": [],
   "source": [
    "df[\"Employment_Status_Aggregated\"]=df[\"Employment_Status_Aggregated\"].apply(lambda x: 0 if x==\"Permanent Employee\" else 1)"
   ]
  },
  {
   "cell_type": "code",
   "execution_count": 15,
   "metadata": {
    "ExecuteTime": {
     "end_time": "2021-04-22T17:13:16.685092Z",
     "start_time": "2021-04-22T17:13:16.677796Z"
    }
   },
   "outputs": [
    {
     "data": {
      "text/plain": [
       "array([0, 1])"
      ]
     },
     "execution_count": 15,
     "metadata": {},
     "output_type": "execute_result"
    }
   ],
   "source": [
    "df[\"Employment_Status_Aggregated\"].unique()"
   ]
  },
  {
   "cell_type": "code",
   "execution_count": 17,
   "metadata": {
    "ExecuteTime": {
     "end_time": "2021-04-22T17:13:43.669393Z",
     "start_time": "2021-04-22T17:13:43.661296Z"
    }
   },
   "outputs": [
    {
     "data": {
      "text/plain": [
       "array([nan, 'Bachelor degree', 'High School Education', 'Basic Education',\n",
       "       'Doctoral degree', 'I prefer not to answer', 'Masters degree',\n",
       "       'Trade/technical/vocational training', 'University drop out'],\n",
       "      dtype=object)"
      ]
     },
     "execution_count": 17,
     "metadata": {},
     "output_type": "execute_result"
    }
   ],
   "source": [
    "df[\"Education_Level\"].unique()"
   ]
  },
  {
   "cell_type": "code",
   "execution_count": 18,
   "metadata": {
    "ExecuteTime": {
     "end_time": "2021-04-22T17:14:26.532072Z",
     "start_time": "2021-04-22T17:14:26.515956Z"
    }
   },
   "outputs": [],
   "source": [
    "df[\"Education_Level\"]=df[\"Education_Level\"].apply(lambda x: 'NA' if pd.isna(x) else x)\n",
    "\n",
    "Educ_levels={'NA':0,\n",
    "             'I prefer not to answer':0,\n",
    "             'Basic Education':1,\n",
    "             'High School Education':2,\n",
    "             'Bachelor degree':3,\n",
    "             'Masters degree':4,\n",
    "             'Doctoral degree':5,\n",
    "             'Trade/technical/vocational training':2,\n",
    "             'University drop out':2\n",
    "            }\n",
    "\n",
    "df[\"Education_Level\"]=df[\"Education_Level\"].apply(lambda x: Educ_levels[x])"
   ]
  },
  {
   "cell_type": "code",
   "execution_count": 19,
   "metadata": {
    "ExecuteTime": {
     "end_time": "2021-04-22T17:14:49.292722Z",
     "start_time": "2021-04-22T17:14:49.285169Z"
    }
   },
   "outputs": [
    {
     "data": {
      "text/plain": [
       "array([0, 3, 2, 1, 5, 4])"
      ]
     },
     "execution_count": 19,
     "metadata": {},
     "output_type": "execute_result"
    }
   ],
   "source": [
    "df[\"Education_Level\"].unique()"
   ]
  },
  {
   "cell_type": "code",
   "execution_count": 23,
   "metadata": {
    "ExecuteTime": {
     "end_time": "2021-04-22T17:16:25.437802Z",
     "start_time": "2021-04-22T17:16:25.429049Z"
    }
   },
   "outputs": [
    {
     "data": {
      "text/plain": [
       "array([37., 45., 35., 46., 32., 26., 30., 38., 24., 39., 25., 29., 27.,\n",
       "       31., 40., 43., 23., 33., 34., 51., 36., 28., 50., 41., 44., 49.,\n",
       "       22., 42., 21., 48., 47., 52., 53., 62., 58., 59., 56., 54., 55.,\n",
       "       nan, 61., 19., 20., 67., 57.])"
      ]
     },
     "execution_count": 23,
     "metadata": {},
     "output_type": "execute_result"
    }
   ],
   "source": [
    "df['Age'].unique()"
   ]
  },
  {
   "cell_type": "code",
   "execution_count": 28,
   "metadata": {
    "ExecuteTime": {
     "end_time": "2021-04-22T17:22:59.233925Z",
     "start_time": "2021-04-22T17:22:59.224595Z"
    }
   },
   "outputs": [
    {
     "data": {
      "text/plain": [
       "array([37., 45., 35., 46., 32., 26., 30., 38., 24., 39., 25., 29., 27.,\n",
       "       31., 40., 43., 23., 33., 34., 51., 36., 28., 50., 41., 44., 49.,\n",
       "       22., 42., 21., 48., 47., 52., 53., 62., 58., 59., 56., 54., 55.,\n",
       "       61., 19., 20., 67., 57.])"
      ]
     },
     "execution_count": 28,
     "metadata": {},
     "output_type": "execute_result"
    }
   ],
   "source": [
    "df.Age.unique()"
   ]
  },
  {
   "cell_type": "code",
   "execution_count": 27,
   "metadata": {
    "ExecuteTime": {
     "end_time": "2021-04-22T17:22:51.483635Z",
     "start_time": "2021-04-22T17:22:51.461602Z"
    }
   },
   "outputs": [],
   "source": [
    "df.dropna(subset=[\"Age\"], inplace=True)"
   ]
  },
  {
   "cell_type": "code",
   "execution_count": 39,
   "metadata": {
    "ExecuteTime": {
     "end_time": "2021-04-22T17:31:11.019755Z",
     "start_time": "2021-04-22T17:31:10.999309Z"
    }
   },
   "outputs": [
    {
     "data": {
      "text/plain": [
       "Employment_Status_Aggregated      0\n",
       "Work_Company_Country              2\n",
       "Job_Remote_or_Office              0\n",
       "Job_Role                          0\n",
       "Employer_Org_Type                41\n",
       "                                 ..\n",
       "Age                               0\n",
       "Gender                            0\n",
       "English_Level                     0\n",
       "Education_Level                   0\n",
       "Working_Experience_Aggregated     0\n",
       "Length: 72, dtype: int64"
      ]
     },
     "execution_count": 39,
     "metadata": {},
     "output_type": "execute_result"
    }
   ],
   "source": [
    "df.isna().sum()"
   ]
  },
  {
   "cell_type": "code",
   "execution_count": 41,
   "metadata": {
    "ExecuteTime": {
     "end_time": "2021-04-22T17:33:44.299517Z",
     "start_time": "2021-04-22T17:33:44.291444Z"
    }
   },
   "outputs": [
    {
     "data": {
      "text/plain": [
       "array(['Full Office Job', 'Remote Job (full or flexible)'], dtype=object)"
      ]
     },
     "execution_count": 41,
     "metadata": {},
     "output_type": "execute_result"
    }
   ],
   "source": [
    "df[\"Job_Remote_or_Office\"].unique()"
   ]
  },
  {
   "cell_type": "code",
   "execution_count": 42,
   "metadata": {
    "ExecuteTime": {
     "end_time": "2021-04-22T17:36:41.967956Z",
     "start_time": "2021-04-22T17:36:41.957435Z"
    }
   },
   "outputs": [],
   "source": [
    "df[\"Job_Remote_or_Office\"]=df[\"Job_Remote_or_Office\"].apply(lambda x: 0 if x=='Full Office Job' else 1)"
   ]
  },
  {
   "cell_type": "code",
   "execution_count": 46,
   "metadata": {
    "ExecuteTime": {
     "end_time": "2021-04-22T17:43:02.604789Z",
     "start_time": "2021-04-22T17:43:02.597542Z"
    }
   },
   "outputs": [
    {
     "data": {
      "text/plain": [
       "array(['6+ years', '0 - 3 years', '3 - 6 years', '0 Years'], dtype=object)"
      ]
     },
     "execution_count": 46,
     "metadata": {},
     "output_type": "execute_result"
    }
   ],
   "source": [
    "df[\"Working_Experience_Aggregated\"].unique()"
   ]
  },
  {
   "cell_type": "code",
   "execution_count": 47,
   "metadata": {
    "ExecuteTime": {
     "end_time": "2021-04-22T17:46:44.472571Z",
     "start_time": "2021-04-22T17:46:44.457038Z"
    }
   },
   "outputs": [
    {
     "data": {
      "text/plain": [
       "array([3, 1, 2, 0])"
      ]
     },
     "execution_count": 47,
     "metadata": {},
     "output_type": "execute_result"
    }
   ],
   "source": [
    "work_exp={'0 Years':0,\n",
    "          '0 - 3 years':1,\n",
    "          '3 - 6 years':2,\n",
    "          '6+ years':3\n",
    "         }\n",
    "df[\"Working_Experience_Aggregated\"]=df[\"Working_Experience_Aggregated\"].apply(lambda x: work_exp[x])\n",
    "df[\"Working_Experience_Aggregated\"].unique()"
   ]
  },
  {
   "cell_type": "code",
   "execution_count": 48,
   "metadata": {
    "ExecuteTime": {
     "end_time": "2021-04-22T17:46:49.303086Z",
     "start_time": "2021-04-22T17:46:49.267118Z"
    }
   },
   "outputs": [
    {
     "data": {
      "text/html": [
       "<style  type=\"text/css\" >\n",
       "#T_ab8b1_row0_col0,#T_ab8b1_row1_col1,#T_ab8b1_row2_col2,#T_ab8b1_row3_col3,#T_ab8b1_row4_col4,#T_ab8b1_row5_col5{\n",
       "            background-color:  #08306b;\n",
       "            color:  #f1f1f1;\n",
       "        }#T_ab8b1_row0_col1{\n",
       "            background-color:  #a1cbe2;\n",
       "            color:  #000000;\n",
       "        }#T_ab8b1_row0_col2{\n",
       "            background-color:  #a4cce3;\n",
       "            color:  #000000;\n",
       "        }#T_ab8b1_row0_col3{\n",
       "            background-color:  #dae8f6;\n",
       "            color:  #000000;\n",
       "        }#T_ab8b1_row0_col4{\n",
       "            background-color:  #c8dcf0;\n",
       "            color:  #000000;\n",
       "        }#T_ab8b1_row0_col5{\n",
       "            background-color:  #7fb9da;\n",
       "            color:  #000000;\n",
       "        }#T_ab8b1_row1_col0{\n",
       "            background-color:  #b5d4e9;\n",
       "            color:  #000000;\n",
       "        }#T_ab8b1_row1_col2,#T_ab8b1_row2_col3{\n",
       "            background-color:  #f1f7fd;\n",
       "            color:  #000000;\n",
       "        }#T_ab8b1_row1_col3,#T_ab8b1_row4_col5{\n",
       "            background-color:  #eaf3fb;\n",
       "            color:  #000000;\n",
       "        }#T_ab8b1_row1_col4{\n",
       "            background-color:  #e8f1fa;\n",
       "            color:  #000000;\n",
       "        }#T_ab8b1_row1_col5{\n",
       "            background-color:  #4090c5;\n",
       "            color:  #000000;\n",
       "        }#T_ab8b1_row2_col0{\n",
       "            background-color:  #bfd8ed;\n",
       "            color:  #000000;\n",
       "        }#T_ab8b1_row2_col1,#T_ab8b1_row3_col0,#T_ab8b1_row3_col1,#T_ab8b1_row3_col2,#T_ab8b1_row3_col4,#T_ab8b1_row3_col5,#T_ab8b1_row4_col3{\n",
       "            background-color:  #f7fbff;\n",
       "            color:  #000000;\n",
       "        }#T_ab8b1_row2_col4{\n",
       "            background-color:  #cee0f2;\n",
       "            color:  #000000;\n",
       "        }#T_ab8b1_row2_col5{\n",
       "            background-color:  #edf4fc;\n",
       "            color:  #000000;\n",
       "        }#T_ab8b1_row4_col0{\n",
       "            background-color:  #e2edf8;\n",
       "            color:  #000000;\n",
       "        }#T_ab8b1_row4_col1{\n",
       "            background-color:  #f5f9fe;\n",
       "            color:  #000000;\n",
       "        }#T_ab8b1_row4_col2{\n",
       "            background-color:  #d3e4f3;\n",
       "            color:  #000000;\n",
       "        }#T_ab8b1_row5_col0{\n",
       "            background-color:  #94c4df;\n",
       "            color:  #000000;\n",
       "        }#T_ab8b1_row5_col1{\n",
       "            background-color:  #3f8fc5;\n",
       "            color:  #000000;\n",
       "        }#T_ab8b1_row5_col2{\n",
       "            background-color:  #e6f0f9;\n",
       "            color:  #000000;\n",
       "        }#T_ab8b1_row5_col3{\n",
       "            background-color:  #eaf2fb;\n",
       "            color:  #000000;\n",
       "        }#T_ab8b1_row5_col4{\n",
       "            background-color:  #ddeaf7;\n",
       "            color:  #000000;\n",
       "        }</style><table id=\"T_ab8b1_\" ><thead>    <tr>        <th class=\"blank level0\" ></th>        <th class=\"col_heading level0 col0\" >Avg_Salary</th>        <th class=\"col_heading level0 col1\" >Age</th>        <th class=\"col_heading level0 col2\" >Salary_Fairness</th>        <th class=\"col_heading level0 col3\" >Education_Level</th>        <th class=\"col_heading level0 col4\" >Job_Remote_or_Office</th>        <th class=\"col_heading level0 col5\" >Working_Experience_Aggregated</th>    </tr></thead><tbody>\n",
       "                <tr>\n",
       "                        <th id=\"T_ab8b1_level0_row0\" class=\"row_heading level0 row0\" >Avg_Salary</th>\n",
       "                        <td id=\"T_ab8b1_row0_col0\" class=\"data row0 col0\" >1.000000</td>\n",
       "                        <td id=\"T_ab8b1_row0_col1\" class=\"data row0 col1\" >0.391660</td>\n",
       "                        <td id=\"T_ab8b1_row0_col2\" class=\"data row0 col2\" >0.366518</td>\n",
       "                        <td id=\"T_ab8b1_row0_col3\" class=\"data row0 col3\" >0.129566</td>\n",
       "                        <td id=\"T_ab8b1_row0_col4\" class=\"data row0 col4\" >0.223997</td>\n",
       "                        <td id=\"T_ab8b1_row0_col5\" class=\"data row0 col5\" >0.477340</td>\n",
       "            </tr>\n",
       "            <tr>\n",
       "                        <th id=\"T_ab8b1_level0_row1\" class=\"row_heading level0 row1\" >Age</th>\n",
       "                        <td id=\"T_ab8b1_row1_col0\" class=\"data row1 col0\" >0.391660</td>\n",
       "                        <td id=\"T_ab8b1_row1_col1\" class=\"data row1 col1\" >1.000000</td>\n",
       "                        <td id=\"T_ab8b1_row1_col2\" class=\"data row1 col2\" >0.045024</td>\n",
       "                        <td id=\"T_ab8b1_row1_col3\" class=\"data row1 col3\" >0.044314</td>\n",
       "                        <td id=\"T_ab8b1_row1_col4\" class=\"data row1 col4\" >0.055990</td>\n",
       "                        <td id=\"T_ab8b1_row1_col5\" class=\"data row1 col5\" >0.649331</td>\n",
       "            </tr>\n",
       "            <tr>\n",
       "                        <th id=\"T_ab8b1_level0_row2\" class=\"row_heading level0 row2\" >Salary_Fairness</th>\n",
       "                        <td id=\"T_ab8b1_row2_col0\" class=\"data row2 col0\" >0.366518</td>\n",
       "                        <td id=\"T_ab8b1_row2_col1\" class=\"data row2 col1\" >0.045024</td>\n",
       "                        <td id=\"T_ab8b1_row2_col2\" class=\"data row2 col2\" >1.000000</td>\n",
       "                        <td id=\"T_ab8b1_row2_col3\" class=\"data row2 col3\" >0.013990</td>\n",
       "                        <td id=\"T_ab8b1_row2_col4\" class=\"data row2 col4\" >0.192817</td>\n",
       "                        <td id=\"T_ab8b1_row2_col5\" class=\"data row2 col5\" >0.100560</td>\n",
       "            </tr>\n",
       "            <tr>\n",
       "                        <th id=\"T_ab8b1_level0_row3\" class=\"row_heading level0 row3\" >Education_Level</th>\n",
       "                        <td id=\"T_ab8b1_row3_col0\" class=\"data row3 col0\" >0.129566</td>\n",
       "                        <td id=\"T_ab8b1_row3_col1\" class=\"data row3 col1\" >0.044314</td>\n",
       "                        <td id=\"T_ab8b1_row3_col2\" class=\"data row3 col2\" >0.013990</td>\n",
       "                        <td id=\"T_ab8b1_row3_col3\" class=\"data row3 col3\" >1.000000</td>\n",
       "                        <td id=\"T_ab8b1_row3_col4\" class=\"data row3 col4\" >-0.020968</td>\n",
       "                        <td id=\"T_ab8b1_row3_col5\" class=\"data row3 col5\" >0.050644</td>\n",
       "            </tr>\n",
       "            <tr>\n",
       "                        <th id=\"T_ab8b1_level0_row4\" class=\"row_heading level0 row4\" >Job_Remote_or_Office</th>\n",
       "                        <td id=\"T_ab8b1_row4_col0\" class=\"data row4 col0\" >0.223997</td>\n",
       "                        <td id=\"T_ab8b1_row4_col1\" class=\"data row4 col1\" >0.055990</td>\n",
       "                        <td id=\"T_ab8b1_row4_col2\" class=\"data row4 col2\" >0.192817</td>\n",
       "                        <td id=\"T_ab8b1_row4_col3\" class=\"data row4 col3\" >-0.020968</td>\n",
       "                        <td id=\"T_ab8b1_row4_col4\" class=\"data row4 col4\" >1.000000</td>\n",
       "                        <td id=\"T_ab8b1_row4_col5\" class=\"data row4 col5\" >0.111230</td>\n",
       "            </tr>\n",
       "            <tr>\n",
       "                        <th id=\"T_ab8b1_level0_row5\" class=\"row_heading level0 row5\" >Working_Experience_Aggregated</th>\n",
       "                        <td id=\"T_ab8b1_row5_col0\" class=\"data row5 col0\" >0.477340</td>\n",
       "                        <td id=\"T_ab8b1_row5_col1\" class=\"data row5 col1\" >0.649331</td>\n",
       "                        <td id=\"T_ab8b1_row5_col2\" class=\"data row5 col2\" >0.100560</td>\n",
       "                        <td id=\"T_ab8b1_row5_col3\" class=\"data row5 col3\" >0.050644</td>\n",
       "                        <td id=\"T_ab8b1_row5_col4\" class=\"data row5 col4\" >0.111230</td>\n",
       "                        <td id=\"T_ab8b1_row5_col5\" class=\"data row5 col5\" >1.000000</td>\n",
       "            </tr>\n",
       "    </tbody></table>"
      ],
      "text/plain": [
       "<pandas.io.formats.style.Styler at 0x1251a7250>"
      ]
     },
     "execution_count": 48,
     "metadata": {},
     "output_type": "execute_result"
    }
   ],
   "source": [
    "columns=[\"Avg_Salary\", \"Age\", \"Gender\", \"Salary_Fairness\", \"Education_Level\", \"Job_Remote_or_Office\", \"Working_Experience_Aggregated\"]\n",
    "corr=df[columns].corr()\n",
    "corr.style.background_gradient(cmap='Blues')"
   ]
  },
  {
   "cell_type": "markdown",
   "metadata": {},
   "source": [
    "# Analysis for companies"
   ]
  },
  {
   "cell_type": "code",
   "execution_count": null,
   "metadata": {
    "ExecuteTime": {
     "end_time": "2021-04-21T14:14:46.217824Z",
     "start_time": "2021-04-21T14:14:46.188068Z"
    }
   },
   "outputs": [],
   "source": [
    "comp_df=pd.DataFrame(dataset, columns=[\"Employer_Size\",\"Employer_Org_Type\", \"Avg_Salary\", \"Changing_Jobs_next_6_months\", \"Work_Company_Country\"])\n",
    "comp_df"
   ]
  },
  {
   "cell_type": "code",
   "execution_count": null,
   "metadata": {
    "ExecuteTime": {
     "end_time": "2021-04-21T16:05:50.448020Z",
     "start_time": "2021-04-21T16:05:50.429720Z"
    }
   },
   "outputs": [],
   "source": [
    "comp_df.info()"
   ]
  },
  {
   "cell_type": "code",
   "execution_count": null,
   "metadata": {
    "ExecuteTime": {
     "end_time": "2021-04-21T14:51:54.504609Z",
     "start_time": "2021-04-21T14:51:54.496386Z"
    }
   },
   "outputs": [],
   "source": [
    "comp_df[\"Employer_Org_Type\"].isna().sum()"
   ]
  },
  {
   "cell_type": "code",
   "execution_count": null,
   "metadata": {
    "ExecuteTime": {
     "end_time": "2021-04-21T14:53:03.273782Z",
     "start_time": "2021-04-21T14:53:03.263617Z"
    }
   },
   "outputs": [],
   "source": [
    "comp_df[\"Employer_Org_Type\"]=comp_df[\"Employer_Org_Type\"].apply(lambda x: \"NA\" if pd.isna(x) else x)"
   ]
  },
  {
   "cell_type": "code",
   "execution_count": null,
   "metadata": {
    "ExecuteTime": {
     "end_time": "2021-04-21T14:53:05.031067Z",
     "start_time": "2021-04-21T14:53:05.022413Z"
    }
   },
   "outputs": [],
   "source": [
    "comp_df[\"Employer_Org_Type\"].unique()"
   ]
  },
  {
   "cell_type": "code",
   "execution_count": null,
   "metadata": {
    "ExecuteTime": {
     "end_time": "2021-04-21T14:55:33.217169Z",
     "start_time": "2021-04-21T14:55:33.209092Z"
    }
   },
   "outputs": [],
   "source": [
    "comp_df[\"Changing_Jobs_next_6_months\"].isna().sum()"
   ]
  },
  {
   "cell_type": "code",
   "execution_count": null,
   "metadata": {
    "ExecuteTime": {
     "end_time": "2021-04-21T14:55:25.037500Z",
     "start_time": "2021-04-21T14:55:25.027576Z"
    }
   },
   "outputs": [],
   "source": [
    "comp_df[\"Changing_Jobs_next_6_months\"]=comp_df[\"Changing_Jobs_next_6_months\"].apply(lambda x: 0 if pd.isna(x) else x)"
   ]
  },
  {
   "cell_type": "code",
   "execution_count": null,
   "metadata": {
    "ExecuteTime": {
     "end_time": "2021-04-21T14:56:02.512421Z",
     "start_time": "2021-04-21T14:56:02.503950Z"
    }
   },
   "outputs": [],
   "source": [
    "comp_df[\"Avg_Salary\"].isna().sum()"
   ]
  },
  {
   "cell_type": "code",
   "execution_count": null,
   "metadata": {
    "ExecuteTime": {
     "end_time": "2021-04-21T14:56:54.700352Z",
     "start_time": "2021-04-21T14:56:54.692082Z"
    }
   },
   "outputs": [],
   "source": [
    "comp_df[\"Employer_Size\"].isna().sum()"
   ]
  },
  {
   "cell_type": "code",
   "execution_count": null,
   "metadata": {
    "ExecuteTime": {
     "end_time": "2021-04-21T16:10:46.403854Z",
     "start_time": "2021-04-21T16:10:46.395205Z"
    }
   },
   "outputs": [],
   "source": [
    "np.sort(comp_df[\"Employer_Size\"].unique())"
   ]
  },
  {
   "cell_type": "markdown",
   "metadata": {},
   "source": [
    "## Avg Salary vs Employer Size vs Employer Org. Type vs Willing to change jobs"
   ]
  },
  {
   "cell_type": "code",
   "execution_count": null,
   "metadata": {},
   "outputs": [],
   "source": []
  },
  {
   "cell_type": "code",
   "execution_count": null,
   "metadata": {
    "ExecuteTime": {
     "end_time": "2021-04-22T13:25:17.313596Z",
     "start_time": "2021-04-22T13:25:17.213952Z"
    }
   },
   "outputs": [],
   "source": [
    "fig_1=px.scatter(comp_df,\n",
    "                 x=\"Avg_Salary\", \n",
    "                 y=\"Changing_Jobs_next_6_months\"\n",
    "                )\n",
    "#fig.update_layout(dict(showlegend=False))\n",
    "fig_1.show()"
   ]
  },
  {
   "cell_type": "code",
   "execution_count": null,
   "metadata": {
    "ExecuteTime": {
     "end_time": "2021-04-22T13:24:00.736920Z",
     "start_time": "2021-04-22T13:24:00.609914Z"
    }
   },
   "outputs": [],
   "source": [
    "fig_1=px.scatter(comp_df,\n",
    "                 x=\"Avg_Salary\", \n",
    "                 y=\"Employer_Org_Type\",\n",
    "                 #facet_row=\"Employer_Size\",\n",
    "                 color=\"Changing_Jobs_next_6_months\", \n",
    "                 category_orders={\"Employer_Size\":[\"Less than 10 employees\",\n",
    "                                                     \"10 - 19 employees\",\n",
    "                                                     \"20 - 99 employees\",\n",
    "                                                     \"100 - 499 employees\",\n",
    "                                                     \"500 - 999 employees\",\n",
    "                                                     \"1000 - 4.999 employees\",\n",
    "                                                     \"More than 5.000 employees\"],\n",
    "                                  \"Changing_Jobs_next_6_months\":[\"0\",\"1\",\"2\",\"3\",\"4\",\"5\"]\n",
    "                                 },\n",
    "                #height=2000\n",
    "                )\n",
    "fig.update_layout(dict(showlegend=False))\n",
    "fig_1.show()"
   ]
  },
  {
   "cell_type": "markdown",
   "metadata": {},
   "source": [
    "## Avg Salary vs Employer Org Type vs Willing to change jobs"
   ]
  },
  {
   "cell_type": "code",
   "execution_count": null,
   "metadata": {
    "ExecuteTime": {
     "end_time": "2021-04-21T16:53:27.370015Z",
     "start_time": "2021-04-21T16:53:27.239663Z"
    }
   },
   "outputs": [],
   "source": [
    "fig_2=px.scatter(comp_df,\n",
    "                 x=\"Avg_Salary\",\n",
    "                 y=\"Employer_Org_Type\",\n",
    "                 color=\"Changing_Jobs_next_6_months\")\n",
    "\n",
    "fig_2.show()"
   ]
  },
  {
   "cell_type": "code",
   "execution_count": null,
   "metadata": {},
   "outputs": [],
   "source": []
  },
  {
   "cell_type": "markdown",
   "metadata": {},
   "source": [
    "# Analysis for employees"
   ]
  },
  {
   "cell_type": "code",
   "execution_count": null,
   "metadata": {
    "ExecuteTime": {
     "end_time": "2021-04-22T13:29:14.361972Z",
     "start_time": "2021-04-22T13:29:14.350538Z"
    }
   },
   "outputs": [],
   "source": [
    "dataset[\"Working_Experience_Aggregated\"].unique()"
   ]
  },
  {
   "cell_type": "markdown",
   "metadata": {},
   "source": [
    "## Working Experience vs Avg Salary by Remote/Office Job by Gender"
   ]
  },
  {
   "cell_type": "code",
   "execution_count": null,
   "metadata": {
    "ExecuteTime": {
     "end_time": "2021-04-22T13:30:02.980620Z",
     "start_time": "2021-04-22T13:30:02.840936Z"
    }
   },
   "outputs": [],
   "source": [
    "fig_3=px.scatter(dataset,\n",
    "                 x=\"Avg_Salary\",\n",
    "                 y=\"Working_Experience_Aggregated\",\n",
    "                 facet_row=\"Gender\",\n",
    "                 facet_col=\"Job_Remote_or_Office\",\n",
    "                 height=1000,\n",
    "                 category_orders={\"Working_Experience_Aggregated\":[\"6+ years\", \"3 - 6 years\", \"0 - 3 years\", \"0 Years\"]}\n",
    "                )\n",
    "\n",
    "fig_3.show()"
   ]
  },
  {
   "cell_type": "code",
   "execution_count": null,
   "metadata": {
    "ExecuteTime": {
     "end_time": "2021-04-22T13:30:02.980620Z",
     "start_time": "2021-04-22T13:30:02.840936Z"
    }
   },
   "outputs": [],
   "source": [
    "fig_3=px.scatter(dataset,\n",
    "                 x=\"Avg_Salary\",\n",
    "                 y=\"Job\",\n",
    "                 facet_row=\"Working_Experience_Aggregated\",\n",
    "                 facet_col=\"Job_Remote_or_Office\",\n",
    "                 height=1000,\n",
    "                 category_orders={\"Working_Experience_Aggregated\":[\"6+ years\", \"3 - 6 years\", \"0 - 3 years\", \"0 Years\"]}\n",
    "                )\n",
    "\n",
    "fig_3.show()"
   ]
  },
  {
   "cell_type": "code",
   "execution_count": null,
   "metadata": {},
   "outputs": [],
   "source": []
  }
 ],
 "metadata": {
  "kernelspec": {
   "display_name": "Python 3",
   "language": "python",
   "name": "python3"
  },
  "language_info": {
   "codemirror_mode": {
    "name": "ipython",
    "version": 3
   },
   "file_extension": ".py",
   "mimetype": "text/x-python",
   "name": "python",
   "nbconvert_exporter": "python",
   "pygments_lexer": "ipython3",
   "version": "3.7.7"
  },
  "toc": {
   "base_numbering": 1,
   "nav_menu": {},
   "number_sections": true,
   "sideBar": true,
   "skip_h1_title": false,
   "title_cell": "Table of Contents",
   "title_sidebar": "Contents",
   "toc_cell": false,
   "toc_position": {},
   "toc_section_display": true,
   "toc_window_display": false
  }
 },
 "nbformat": 4,
 "nbformat_minor": 4
}
